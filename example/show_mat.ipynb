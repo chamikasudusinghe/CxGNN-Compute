{
 "cells": [
  {
   "cell_type": "code",
   "execution_count": 23,
   "metadata": {},
   "outputs": [],
   "source": [
    "\n",
    "import cxgnncomp as cxgc\n",
    "import torch\n",
    "import scipy.sparse as sp\n",
    "import numpy as np\n",
    "import matplotlib.pyplot as plt\n",
    "\n",
    "\n",
    "def to_scipy(ptr, idx):\n",
    "    ptr = ptr.cpu()\n",
    "    idx = idx.cpu()\n",
    "    deg = ptr[1:] - ptr[:-1]\n",
    "    dst = torch.repeat_interleave(torch.arange(ptr.shape[0] - 1), deg)\n",
    "    sci_mat = sp.coo_matrix((np.ones(dst.shape[0]), (dst.numpy(), idx.numpy(), )))\n",
    "    return sci_mat\n"
   ]
  },
  {
   "cell_type": "code",
   "execution_count": 24,
   "metadata": {},
   "outputs": [
    {
     "name": "stdout",
     "output_type": "stream",
     "text": [
      "torch.Size([1457278]) torch.Size([14522499]) torch.Size([10257486, 128]) tensor([   10000,   122665,  1457277, 10257486])\n"
     ]
    }
   ],
   "source": [
    "# dset = \"products\"\n",
    "# x, ptr, idx, b = cxgc.prepare_data_full_graph(dset)\n",
    "x, ptr, idx, b = cxgc.prepare_data_sampled_graph(dset=\"papers100M\",\n",
    "                                                 num_seeds=10000)\n",
    "sci_mat = to_scipy(ptr, idx)"
   ]
  },
  {
   "cell_type": "code",
   "execution_count": 25,
   "metadata": {},
   "outputs": [
    {
     "name": "stdout",
     "output_type": "stream",
     "text": [
      "tensor(10256665) tensor(0)\n",
      "(1457277, 10256666)\n"
     ]
    },
    {
     "data": {
      "text/plain": [
       "<matplotlib.lines.Line2D at 0x7f6fa3fd1820>"
      ]
     },
     "execution_count": 25,
     "metadata": {},
     "output_type": "execute_result"
    },
    {
     "data": {
      "image/png": "[encoded data removed]",
      "text/plain": [
       "<Figure size 640x480 with 1 Axes>"
      ]
     },
     "metadata": {},
     "output_type": "display_data"
    }
   ],
   "source": [
    "def start_from_zero(idx):\n",
    "    idx = idx.cpu()\n",
    "    mapping = {}\n",
    "    cnt = 0\n",
    "    unique_idx = []\n",
    "    for i in range(len(idx)):\n",
    "        item = idx[i].item()\n",
    "        if not item in mapping:\n",
    "            mapping[item] = cnt\n",
    "            cnt += 1\n",
    "            unique_idx.append(item)\n",
    "    for i in range(len(idx)):\n",
    "        idx[i] = mapping[idx[i].item()]\n",
    "    return idx, unique_idx\n",
    "idx, _ = start_from_zero(idx)\n",
    "print(torch.max(idx), torch.min(idx))\n",
    "sci_mat = to_scipy(ptr, idx)\n",
    "print(sci_mat.shape)\n",
    "plt.spy(sci_mat, markersize=0.002)"
   ]
  },
  {
   "cell_type": "code",
   "execution_count": 26,
   "metadata": {},
   "outputs": [
    {
     "name": "stdout",
     "output_type": "stream",
     "text": [
      "14522499\n",
      "(1457277, 10256666)\n"
     ]
    }
   ],
   "source": [
    "print(sci_mat.nnz)\n",
    "print(sci_mat.shape)"
   ]
  }
 ],
 "metadata": {
  "kernelspec": {
   "display_name": "Python 3",
   "language": "python",
   "name": "python3"
  },
  "language_info": {
   "codemirror_mode": {
    "name": "ipython",
    "version": 3
   },
   "file_extension": ".py",
   "mimetype": "text/x-python",
   "name": "python",
   "nbconvert_exporter": "python",
   "pygments_lexer": "ipython3",
   "version": "3.9.2"
  },
  "orig_nbformat": 4,
  "vscode": {
   "interpreter": {
    "hash": "31f2aee4e71d21fbe5cf8b01ff0e069b9275f58929596ceb00d14d90e3e16cd6"
   }
  }
 },
 "nbformat": 4,
 "nbformat_minor": 2
}
