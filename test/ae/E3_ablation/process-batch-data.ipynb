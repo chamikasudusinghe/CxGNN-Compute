{
 "cells": [
  {
   "cell_type": "code",
   "execution_count": 1,
   "metadata": {},
   "outputs": [
    {
     "name": "stdout",
     "output_type": "stream",
     "text": [
      "Execution time: (27.91935920715332, 27.916288375854492, 27.91935920715332) ms\n",
      "Execution time: (19.148799896240234, 19.11849021911621, 19.148799896240234) ms\n",
      "Execution time: (19.547136306762695, 19.54672622680664, 19.54877471923828) ms\n",
      "Execution time: (18.755584716796875, 18.501630783081055, 19.187917709350586) ms\n",
      "[417.364990234375, 27.91935920715332, 19.148799896240234, 19.547136306762695, 18.755584716796875, 80.52838134765625]\n"
     ]
    }
   ],
   "source": [
    "import re\n",
    "\n",
    "with open(\"output_batch_rgcn.txt\") as f:\n",
    "    s = f.read()\n",
    "    lines = s.split(\"\\n\")\n",
    "    ans = []\n",
    "    ans.append(float(re.search(r\"rgcn single edge: (\\d+\\.\\d+)\", s).group(1)))\n",
    "    for i in [32, 64, 128, 256]:\n",
    "        for it, line in enumerate(lines):\n",
    "            if f\"BLOCK_SIZE_M: {i}\" in line:\n",
    "                break\n",
    "        print(lines[it + 1])\n",
    "        target = lines[it + 1]\n",
    "        ans.append(float(target.split(\" \")[2][1:-1]))\n",
    "    ans.append(float(re.search(r\"rgcn select matmul: (\\d+\\.\\d+)\", s).group(1)))\n",
    "    print(ans)"
   ]
  },
  {
   "cell_type": "code",
   "execution_count": 2,
   "metadata": {},
   "outputs": [
    {
     "data": {
      "text/plain": [
       "[<matplotlib.lines.Line2D at 0x7f573e762250>]"
      ]
     },
     "execution_count": 2,
     "metadata": {},
     "output_type": "execute_result"
    },
    {
     "data": {
      "image/png": "[encoded data removed]",
      "text/plain": [
       "<Figure size 640x480 with 1 Axes>"
      ]
     },
     "metadata": {},
     "output_type": "display_data"
    }
   ],
   "source": [
    "import matplotlib.pyplot as plt\n",
    "num_edge = 2332486\n",
    "arr = [num_edge * 1000 / item for item in ans]\n",
    "plt.plot(arr)"
   ]
  },
  {
   "cell_type": "code",
   "execution_count": 3,
   "metadata": {},
   "outputs": [
    {
     "ename": "TypeError",
     "evalue": "'builtin_function_or_method' object is not subscriptable",
     "output_type": "error",
     "traceback": [
      "\u001b[0;31m---------------------------------------------------------------------------\u001b[0m",
      "\u001b[0;31mTypeError\u001b[0m                                 Traceback (most recent call last)",
      "Cell \u001b[0;32mIn[3], line 9\u001b[0m\n\u001b[1;32m      7\u001b[0m \u001b[38;5;28;01mfor\u001b[39;00m line \u001b[38;5;129;01min\u001b[39;00m lines:\n\u001b[1;32m      8\u001b[0m     \u001b[38;5;28;01mif\u001b[39;00m \u001b[38;5;124mf\u001b[39m\u001b[38;5;124m\"\u001b[39m\u001b[38;5;124mlstm neighbor op padding \u001b[39m\u001b[38;5;132;01m{\u001b[39;00mi\u001b[38;5;132;01m}\u001b[39;00m\u001b[38;5;124m:\u001b[39m\u001b[38;5;124m\"\u001b[39m \u001b[38;5;129;01min\u001b[39;00m line:\n\u001b[0;32m----> 9\u001b[0m         ans\u001b[38;5;241m.\u001b[39mappend(\u001b[38;5;28mfloat\u001b[39m(\u001b[43mline\u001b[49m\u001b[38;5;241;43m.\u001b[39;49m\u001b[43msplit\u001b[49m\u001b[43m[\u001b[49m\u001b[38;5;124;43m'\u001b[39;49m\u001b[38;5;124;43m \u001b[39;49m\u001b[38;5;124;43m'\u001b[39;49m\u001b[43m]\u001b[49m[\u001b[38;5;241m-\u001b[39m\u001b[38;5;241m1\u001b[39m]))\n\u001b[1;32m     10\u001b[0m         \u001b[38;5;28;01mbreak\u001b[39;00m\n\u001b[1;32m     11\u001b[0m i \u001b[38;5;241m*\u001b[39m\u001b[38;5;241m=\u001b[39m \u001b[38;5;241m2\u001b[39m\n",
      "\u001b[0;31mTypeError\u001b[0m: 'builtin_function_or_method' object is not subscriptable"
     ]
    }
   ],
   "source": [
    "with open(\"output_batch_lstm.txt\") as f:\n",
    "    s = f.read()\n",
    "    lines = s.split(\"\\n\")\n",
    "    i = 1\n",
    "    ans = []\n",
    "    while i <= 2**12:\n",
    "        for line in lines:\n",
    "            if f\"lstm neighbor op padding {i}:\" in line:\n",
    "                ans.append(float(line.split(' ')[-1]))\n",
    "                break\n",
    "        i *= 2"
   ]
  },
  {
   "cell_type": "code",
   "execution_count": null,
   "metadata": {},
   "outputs": [],
   "source": [
    "num_edge = 2332486\n",
    "arr = [num_edge * 1000 / item for item in ans]\n",
    "plt.plot(arr)"
   ]
  }
 ],
 "metadata": {
  "kernelspec": {
   "display_name": "Python 3 (ipykernel)",
   "language": "python",
   "name": "python3"
  },
  "language_info": {
   "codemirror_mode": {
    "name": "ipython",
    "version": 3
   },
   "file_extension": ".py",
   "mimetype": "text/x-python",
   "name": "python",
   "nbconvert_exporter": "python",
   "pygments_lexer": "ipython3",
   "version": "3.11.2"
  }
 },
 "nbformat": 4,
 "nbformat_minor": 4
}
