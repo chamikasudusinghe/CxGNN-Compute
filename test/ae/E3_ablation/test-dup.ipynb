{
 "cells": [
  {
   "cell_type": "code",
   "execution_count": 1,
   "metadata": {},
   "outputs": [
    {
     "name": "stderr",
     "output_type": "stream",
     "text": [
      "/home/huangkz/.venvs/fresh/lib/python3.11/site-packages/tqdm/auto.py:21: TqdmWarning: IProgress not found. Please update jupyter and ipywidgets. See https://ipywidgets.readthedocs.io/en/stable/user_install.html\n",
      "  from .autonotebook import tqdm as notebook_tqdm\n"
     ]
    },
    {
     "name": "stdout",
     "output_type": "stream",
     "text": [
      "Tuner lazy True\n",
      "Loading cache table\n"
     ]
    }
   ],
   "source": [
    "import torch\n",
    "import cxgnncomp as cxgc\n",
    "import cxgnncomp_backend\n",
    "import matplotlib.pyplot as plt\n",
    "import numpy\n",
    "\n",
    "\n",
    "def run(head, feat, hidden, edge, node, rel, node_dst):\n",
    "    nn = []\n",
    "    graph = []\n",
    "    nn_opt = []\n",
    "    graph_opt = []\n",
    "    # RGCN\n",
    "    nn_workload = feat * hidden * edge\n",
    "    graph_workload = (hidden + feat) * edge\n",
    "\n",
    "    nn_workload_opt = node * feat * hidden\n",
    "    graph_workload_opt = node * feat + edge * hidden\n",
    "    print(\n",
    "        f\"RGCN\\t{nn_workload}\\t{graph_workload}\\t{nn_workload_opt}\\t{graph_workload_opt}\"\n",
    "    )\n",
    "    nn.append(nn_workload)\n",
    "    graph.append(graph_workload)\n",
    "    nn_opt.append(nn_workload_opt)\n",
    "    graph_opt.append(graph_workload_opt)\n",
    "\n",
    "    # GAT\n",
    "    nn_workload = feat * hidden * node * head + node * head * hidden\n",
    "    graph_workload = edge * head * hidden * 2\n",
    "\n",
    "    nn_workload_opt = (\n",
    "        feat * hidden * head + feat * node * head + (feat * hidden * node * head)\n",
    "    )\n",
    "    graph_workload_opt = edge * head * feat * 2\n",
    "\n",
    "    print(\n",
    "        f\"GAT\\t{nn_workload}\\t{graph_workload}\\t{nn_workload_opt}\\t{graph_workload_opt}\"\n",
    "    )\n",
    "    nn.append(nn_workload)\n",
    "    graph.append(graph_workload)\n",
    "    nn_opt.append(nn_workload_opt)\n",
    "    graph_opt.append(graph_workload_opt)\n",
    "\n",
    "    # SAGE\n",
    "    nn_workload = feat * hidden * node + feat * hidden * node_dst\n",
    "    graph_workload = feat * edge * 2\n",
    "\n",
    "    nn_workload_opt = node_dst * feat * hidden * 2\n",
    "    graph_workload_opt = min(feat, hidden) * edge * 2\n",
    "\n",
    "    print(\n",
    "        f\"SAGE\\t{nn_workload}\\t{graph_workload}\\t{nn_workload_opt}\\t{graph_workload_opt}\"\n",
    "    )\n",
    "    nn.append(nn_workload)\n",
    "    graph.append(graph_workload)\n",
    "    nn_opt.append(nn_workload_opt)\n",
    "    graph_opt.append(graph_workload_opt)\n",
    "\n",
    "    return numpy.array(nn), numpy.array(graph), numpy.array(nn_opt), numpy.array(graph_opt)\n",
    "\n",
    "\n",
    "def exec(feat=128, hidden=256):\n",
    "    batch = torch.load(\"../../../../data/graph.pt\")\n",
    "    ptr = batch[\"ptr\"].cuda()\n",
    "    idx = batch[\"idx\"].cuda()\n",
    "    num_node_in_layer = batch[\"num_node_in_layer\"]\n",
    "    x = torch.randn([num_node_in_layer[-1], feat], device=\"cuda\")\n",
    "    weight = torch.randn([feat, hidden], device=x.device)\n",
    "    cxgc.prof(\"mm\", \"node\", lambda: torch.mm(x, weight))\n",
    "    cxgc.prof(\"mm\", \"node\", lambda: torch.mm(x, weight))\n",
    "    res_nn = cxgc.prof(\"mm\", \"node\", lambda: torch.mm(x, weight))\n",
    "    res_graph = cxgc.prof(\n",
    "        \"spmm\",\n",
    "        \"\",\n",
    "        lambda: cxgnncomp_backend.sage_mean_forward(x, ptr, idx, num_node_in_layer[-2]),\n",
    "    )\n",
    "    print(f\"nn: {res_nn[0]}, graph: {res_graph[0]}\")\n",
    "    nn_per_op = res_nn[0] / (hidden * feat * x.shape[0])\n",
    "    graph_per_op = res_graph[0] / (feat * idx.shape[0])\n",
    "    # print(\n",
    "    #     f\"nn: {res_nn[0]/(hidden * feat * x.shape[0])}, graph: {res_graph[0] /(feat * idx.shape[0])}\"\n",
    "    # )\n",
    "    # tuner = cxgc.Tuner()\n",
    "    # output = tuner.tune_graph(ptr.shape[0] - 1, idx.shape[0], x.shape[1],\n",
    "    #                           cxgnncomp_backend.run_spmm_configurable,\n",
    "    #                           [ptr, idx, x, ptr.shape[0] - 1])\n",
    "    return nn_per_op, graph_per_op"
   ]
  },
  {
   "cell_type": "code",
   "execution_count": 2,
   "metadata": {},
   "outputs": [
    {
     "name": "stdout",
     "output_type": "stream",
     "text": [
      "mm node: (3.463167905807495, 3.462143898010254, 3.463167905807495)\n",
      "mm node: (3.477504014968872, 3.4752511978149414, 3.5229694843292236)\n",
      "mm node: (3.5031039714813232, 3.463167905807495, 3.5051519870758057)\n",
      "spmm : (15.27347183227539, 15.209471702575684, 15.285247802734375)\n",
      "nn: 3.5031039714813232, graph: 15.27347183227539\n"
     ]
    }
   ],
   "source": [
    "nn_per_op, graph_per_op = exec()"
   ]
  },
  {
   "cell_type": "code",
   "execution_count": 3,
   "metadata": {},
   "outputs": [],
   "source": [
    "def plot(nn, graph, nn_opt, graph_opt, nn_per_op, graph_per_op):\n",
    "    labels = [\"RGCN\", \"GAT\", \"SAGE\"]\n",
    "    x0 = [float(i) for i in range(len(labels))]\n",
    "    x1 = [0.2 + float(i) for i in range(len(labels))]\n",
    "    x2 = [0.4 + float(i) for i in range(len(labels))]\n",
    "    # x2 = [0.4 + float(i) for i in range(len(labels))]\n",
    "    overall = graph * graph_per_op / 2 + nn * nn_per_op\n",
    "    plt.bar(x0, (graph * graph_per_op / 2 + nn * nn_per_op) / overall, width=0.2, label=\"Graph-base\")\n",
    "    plt.bar(x0, (nn * nn_per_op) / overall, width=0.2, label=\"NN-base\")\n",
    "    plt.bar(x1, (graph_opt * graph_per_op / 2 + nn_opt * nn_per_op) / overall, width=0.2, label=\"Graph-opt\")\n",
    "    plt.bar(x1, (nn_opt * nn_per_op) / overall, width=0.2, label=\"NN-opt\")\n",
    "    plt.xticks([i + 0.1 for i in range(len(labels))], labels)\n",
    "    plt.legend()"
   ]
  },
  {
   "cell_type": "code",
   "execution_count": 4,
   "metadata": {},
   "outputs": [
    {
     "name": "stdout",
     "output_type": "stream",
     "text": [
      "RGCN\t76430901248\t895674624\t5549031424\t618792320\n",
      "GAT\t89478131712\t19107725312\t89131841536\t9553862656\n",
      "SAGE\t11098062848\t597116416\t11098062848\t597116416\n"
     ]
    },
    {
     "data": {
      "image/png": "[encoded data removed]",
      "text/plain": [
       "<Figure size 640x480 with 1 Axes>"
      ]
     },
     "metadata": {},
     "output_type": "display_data"
    }
   ],
   "source": [
    "# get arxiv data\n",
    "head = 16\n",
    "feat = 128\n",
    "hidden = 256\n",
    "edge = 2332486\n",
    "node = 169343\n",
    "rel = 7\n",
    "# print(nn_per_op, graph_per_op)\n",
    "nn, graph, nn_opt, graph_opt = run(head, feat, hidden, edge, node, rel, node_dst=node)\n",
    "# print(nn, graph, nn_opt, graph_opt)\n",
    "\n",
    "plot(nn, graph, nn_opt, graph_opt, nn_per_op, graph_per_op)\n",
    "\n"
   ]
  },
  {
   "cell_type": "code",
   "execution_count": 7,
   "metadata": {},
   "outputs": [
    {
     "name": "stdout",
     "output_type": "stream",
     "text": [
      "dataset prepared torch.Size([153356]) torch.Size([1530846]) torch.Size([1270184, 128]) tensor([   1000,   12429,  153355, 1270184])\n",
      "RGCN\t50162761728\t587844864\t41621389312\t554480128\n",
      "GAT\t671144902656\t12540690432\t668544090112\t6270345216\n",
      "SAGE\t46646525952\t391896576\t10050273280\t391896576\n"
     ]
    },
    {
     "data": {
      "image/png": "[encoded data removed]",
      "text/plain": [
       "<Figure size 640x480 with 1 Axes>"
      ]
     },
     "metadata": {},
     "output_type": "display_data"
    }
   ],
   "source": [
    "# get papers100M data\n",
    "dset = \"papers100M\"\n",
    "x, ptr, idx, b = cxgc.prepare_data_sampled_graph(\n",
    "    dset=dset, feat_len=128, num_head=1, num_seeds=1000, need_edge_index=False\n",
    ")\n",
    "feat = 128\n",
    "node = b[\"num_node_in_layer\"][-1]\n",
    "node_dst = b[\"num_node_in_layer\"][-2]\n",
    "edge = idx.shape[0]\n",
    "nn, graph, nn_opt, graph_opt = run(head, feat, hidden, edge, node, rel, node_dst=node_dst)\n",
    "plot(nn, graph, nn_opt, graph_opt, nn_per_op, graph_per_op)"
   ]
  },
  {
   "cell_type": "code",
   "execution_count": null,
   "metadata": {},
   "outputs": [],
   "source": []
  }
 ],
 "metadata": {
  "kernelspec": {
   "display_name": "Python 3 (ipykernel)",
   "language": "python",
   "name": "python3"
  },
  "language_info": {
   "codemirror_mode": {
    "name": "ipython",
    "version": 3
   },
   "file_extension": ".py",
   "mimetype": "text/x-python",
   "name": "python",
   "nbconvert_exporter": "python",
   "pygments_lexer": "ipython3",
   "version": "3.11.2"
  }
 },
 "nbformat": 4,
 "nbformat_minor": 4
}
